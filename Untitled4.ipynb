{
  "nbformat": 4,
  "nbformat_minor": 0,
  "metadata": {
    "colab": {
      "name": "Untitled4.ipynb",
      "provenance": [],
      "collapsed_sections": []
    },
    "kernelspec": {
      "name": "python3",
      "display_name": "Python 3"
    },
    "language_info": {
      "name": "python"
    }
  },
  "cells": [
    {
      "cell_type": "markdown",
      "metadata": {
        "id": "i-Jo6lL0-x60"
      },
      "source": [
        "Задание 1"
      ]
    },
    {
      "cell_type": "code",
      "metadata": {
        "id": "x8fimGbs3XBw"
      },
      "source": [
        "import numpy as np\n",
        "import pandas as pd\n",
        "import matplotlib.pyplot as plt\n",
        "from sklearn.datasets import load_boston\n",
        "boston = load_boston()\n",
        "features = boston.feature_names\n",
        "X = pd.DataFrame(boston.data, columns=features)\n",
        "y = boston.target\n"
      ],
      "execution_count": null,
      "outputs": []
    },
    {
      "cell_type": "code",
      "metadata": {
        "colab": {
          "base_uri": "https://localhost:8080/",
          "height": 206
        },
        "id": "kzoQ39eK6lkg",
        "outputId": "8f71d0c2-3748-44f5-85cd-07a99d2ac58e"
      },
      "source": [
        "from sklearn.model_selection import train_test_split\n",
        "X_train, X_test, y_train, y_test = train_test_split(X,y, test_size = 0.2, random_state = 42)"
      ],
      "execution_count": null,
      "outputs": [
        {
          "output_type": "execute_result",
          "data": {
            "text/html": [
              "<div>\n",
              "<style scoped>\n",
              "    .dataframe tbody tr th:only-of-type {\n",
              "        vertical-align: middle;\n",
              "    }\n",
              "\n",
              "    .dataframe tbody tr th {\n",
              "        vertical-align: top;\n",
              "    }\n",
              "\n",
              "    .dataframe thead th {\n",
              "        text-align: right;\n",
              "    }\n",
              "</style>\n",
              "<table border=\"1\" class=\"dataframe\">\n",
              "  <thead>\n",
              "    <tr style=\"text-align: right;\">\n",
              "      <th></th>\n",
              "      <th>CRIM</th>\n",
              "      <th>ZN</th>\n",
              "      <th>INDUS</th>\n",
              "      <th>CHAS</th>\n",
              "      <th>NOX</th>\n",
              "      <th>RM</th>\n",
              "      <th>AGE</th>\n",
              "      <th>DIS</th>\n",
              "      <th>RAD</th>\n",
              "      <th>TAX</th>\n",
              "      <th>PTRATIO</th>\n",
              "      <th>B</th>\n",
              "      <th>LSTAT</th>\n",
              "    </tr>\n",
              "  </thead>\n",
              "  <tbody>\n",
              "    <tr>\n",
              "      <th>0</th>\n",
              "      <td>0.00632</td>\n",
              "      <td>18.0</td>\n",
              "      <td>2.31</td>\n",
              "      <td>0.0</td>\n",
              "      <td>0.538</td>\n",
              "      <td>6.575</td>\n",
              "      <td>65.2</td>\n",
              "      <td>4.0900</td>\n",
              "      <td>1.0</td>\n",
              "      <td>296.0</td>\n",
              "      <td>15.3</td>\n",
              "      <td>396.90</td>\n",
              "      <td>4.98</td>\n",
              "    </tr>\n",
              "    <tr>\n",
              "      <th>1</th>\n",
              "      <td>0.02731</td>\n",
              "      <td>0.0</td>\n",
              "      <td>7.07</td>\n",
              "      <td>0.0</td>\n",
              "      <td>0.469</td>\n",
              "      <td>6.421</td>\n",
              "      <td>78.9</td>\n",
              "      <td>4.9671</td>\n",
              "      <td>2.0</td>\n",
              "      <td>242.0</td>\n",
              "      <td>17.8</td>\n",
              "      <td>396.90</td>\n",
              "      <td>9.14</td>\n",
              "    </tr>\n",
              "    <tr>\n",
              "      <th>2</th>\n",
              "      <td>0.02729</td>\n",
              "      <td>0.0</td>\n",
              "      <td>7.07</td>\n",
              "      <td>0.0</td>\n",
              "      <td>0.469</td>\n",
              "      <td>7.185</td>\n",
              "      <td>61.1</td>\n",
              "      <td>4.9671</td>\n",
              "      <td>2.0</td>\n",
              "      <td>242.0</td>\n",
              "      <td>17.8</td>\n",
              "      <td>392.83</td>\n",
              "      <td>4.03</td>\n",
              "    </tr>\n",
              "    <tr>\n",
              "      <th>3</th>\n",
              "      <td>0.03237</td>\n",
              "      <td>0.0</td>\n",
              "      <td>2.18</td>\n",
              "      <td>0.0</td>\n",
              "      <td>0.458</td>\n",
              "      <td>6.998</td>\n",
              "      <td>45.8</td>\n",
              "      <td>6.0622</td>\n",
              "      <td>3.0</td>\n",
              "      <td>222.0</td>\n",
              "      <td>18.7</td>\n",
              "      <td>394.63</td>\n",
              "      <td>2.94</td>\n",
              "    </tr>\n",
              "    <tr>\n",
              "      <th>4</th>\n",
              "      <td>0.06905</td>\n",
              "      <td>0.0</td>\n",
              "      <td>2.18</td>\n",
              "      <td>0.0</td>\n",
              "      <td>0.458</td>\n",
              "      <td>7.147</td>\n",
              "      <td>54.2</td>\n",
              "      <td>6.0622</td>\n",
              "      <td>3.0</td>\n",
              "      <td>222.0</td>\n",
              "      <td>18.7</td>\n",
              "      <td>396.90</td>\n",
              "      <td>5.33</td>\n",
              "    </tr>\n",
              "  </tbody>\n",
              "</table>\n",
              "</div>"
            ],
            "text/plain": [
              "      CRIM    ZN  INDUS  CHAS    NOX  ...  RAD    TAX  PTRATIO       B  LSTAT\n",
              "0  0.00632  18.0   2.31   0.0  0.538  ...  1.0  296.0     15.3  396.90   4.98\n",
              "1  0.02731   0.0   7.07   0.0  0.469  ...  2.0  242.0     17.8  396.90   9.14\n",
              "2  0.02729   0.0   7.07   0.0  0.469  ...  2.0  242.0     17.8  392.83   4.03\n",
              "3  0.03237   0.0   2.18   0.0  0.458  ...  3.0  222.0     18.7  394.63   2.94\n",
              "4  0.06905   0.0   2.18   0.0  0.458  ...  3.0  222.0     18.7  396.90   5.33\n",
              "\n",
              "[5 rows x 13 columns]"
            ]
          },
          "metadata": {},
          "execution_count": 15
        }
      ]
    },
    {
      "cell_type": "code",
      "metadata": {
        "id": "mpbjvJAt7Td1"
      },
      "source": [
        "from sklearn.preprocessing import StandardScaler\n",
        "scaler = StandardScaler()\n",
        "\n",
        "X_train_scaled = pd.DataFrame(scaler.fit_transform(X_train), columns=X_train.columns)\n",
        "X_test_scaled = pd.DataFrame(scaler.transform(X_test), columns=X_test.columns)"
      ],
      "execution_count": null,
      "outputs": []
    },
    {
      "cell_type": "code",
      "metadata": {
        "colab": {
          "base_uri": "https://localhost:8080/"
        },
        "id": "MCZWnJet7vCl",
        "outputId": "61d32da2-caad-4cdd-be12-f324d532e7cf"
      },
      "source": [
        "from sklearn.manifold import TSNE\n",
        "tsne = TSNE(n_components=2, learning_rate=250, random_state=42)\n",
        "X_train_tsne = tsne.fit_transform(X_train_scaled)\n",
        "print(X_train_tsne)\n"
      ],
      "execution_count": null,
      "outputs": [
        {
          "output_type": "stream",
          "name": "stdout",
          "text": [
            "[[ 28.13809     18.375324  ]\n",
            " [ -9.785578    -4.5355387 ]\n",
            " [-15.695753   -17.543627  ]\n",
            " [ 37.924854    13.517046  ]\n",
            " [ -8.786393     3.9951665 ]\n",
            " [-13.988173    -7.7626657 ]\n",
            " [-11.960751    -7.4771976 ]\n",
            " [-18.704308   -23.812914  ]\n",
            " [ 38.665813    12.55771   ]\n",
            " [ 35.53426     11.327715  ]\n",
            " [-12.056245    -8.116859  ]\n",
            " [ -5.7400675   -5.8184624 ]\n",
            " [ -2.0275154   -8.284211  ]\n",
            " [ 35.76188     12.485169  ]\n",
            " [ -2.2966845  -10.11944   ]\n",
            " [-10.227566     7.138571  ]\n",
            " [ -7.261146     1.1323055 ]\n",
            " [-14.401978   -18.217144  ]\n",
            " [-13.338248   -12.094605  ]\n",
            " [-17.165924   -12.843067  ]\n",
            " [ 34.02783     17.060034  ]\n",
            " [ -4.4231987    0.22272195]\n",
            " [-15.497815    -7.9093003 ]\n",
            " [-10.733389    -5.5205164 ]\n",
            " [-18.339699   -23.839216  ]\n",
            " [ -3.087924    -8.492775  ]\n",
            " [  8.2998       2.3935862 ]\n",
            " [ -1.5845332  -12.5177965 ]\n",
            " [ -1.7503096   13.745355  ]\n",
            " [-17.836658    -8.000917  ]\n",
            " [ -8.456023     7.1432576 ]\n",
            " [ -3.9704554    1.7679943 ]\n",
            " [  5.3078537    6.6208763 ]\n",
            " [ 35.63743     13.454849  ]\n",
            " [-11.5760975   -6.726915  ]\n",
            " [-17.734854   -25.460443  ]\n",
            " [-15.124907   -22.501612  ]\n",
            " [ -9.148589     6.324595  ]\n",
            " [ -8.659377     6.1306043 ]\n",
            " [-16.324066   -23.121286  ]\n",
            " [-17.558323   -22.254694  ]\n",
            " [  6.48041     -1.2868649 ]\n",
            " [ 31.174524    17.798105  ]\n",
            " [ -9.849213   -10.464815  ]\n",
            " [  8.876486     2.1363351 ]\n",
            " [ 25.288591    15.688806  ]\n",
            " [ -9.757773     5.8666973 ]\n",
            " [ -0.21123397 -10.906814  ]\n",
            " [ 36.28065     12.509354  ]\n",
            " [ 24.669172    15.230006  ]\n",
            " [ -7.998273    -9.428775  ]\n",
            " [ -4.818826     0.21983899]\n",
            " [-14.016993    -5.1305685 ]\n",
            " [-12.478437    -6.5398283 ]\n",
            " [ 26.394218    12.135004  ]\n",
            " [ 22.183819    13.560777  ]\n",
            " [ -7.5565767  -10.210702  ]\n",
            " [ 32.93329     17.762104  ]\n",
            " [ -6.1827965   -5.4777536 ]\n",
            " [-13.597293   -12.097709  ]\n",
            " [ -7.6747804    2.8502884 ]\n",
            " [-10.064885    -5.5819697 ]\n",
            " [  2.029482    -5.8321896 ]\n",
            " [ -7.064649     7.451314  ]\n",
            " [  2.8209565   -9.180927  ]\n",
            " [ 26.092728    14.185688  ]\n",
            " [ -9.137148     6.7497706 ]\n",
            " [-14.996927     0.37444025]\n",
            " [  2.164165    13.593368  ]\n",
            " [ -6.4534082    6.181309  ]\n",
            " [-11.519039    -5.1730375 ]\n",
            " [  1.8227493    0.9051863 ]\n",
            " [ 24.056036    11.766386  ]\n",
            " [ -5.1006675    1.3414766 ]\n",
            " [ -3.9655967    0.13827883]\n",
            " [ -5.5965757   -9.552628  ]\n",
            " [-13.107371   -21.394411  ]\n",
            " [ -9.222561   -12.404206  ]\n",
            " [  5.2096415    7.008011  ]\n",
            " [ 28.591278    19.934788  ]\n",
            " [ 26.882254    18.319893  ]\n",
            " [ 18.100563     9.41734   ]\n",
            " [-21.711723   -16.22912   ]\n",
            " [  8.16086     -2.0175364 ]\n",
            " [ 37.348515    12.916934  ]\n",
            " [  0.32419378  14.74559   ]\n",
            " [ 17.818848     8.21023   ]\n",
            " [-16.287497   -10.811733  ]\n",
            " [ 22.972353    14.721687  ]\n",
            " [  2.435103     2.4547868 ]\n",
            " [ -6.3012533    1.6790912 ]\n",
            " [ 26.089634    16.241724  ]\n",
            " [ 29.241608    16.87148   ]\n",
            " [-14.919875   -22.699377  ]\n",
            " [-17.327772   -13.238887  ]\n",
            " [ -7.1457996    5.6095705 ]\n",
            " [ 23.83222     16.113045  ]\n",
            " [  5.877645     5.382423  ]\n",
            " [ -9.879021   -10.558213  ]\n",
            " [  9.006917     2.170091  ]\n",
            " [  7.9920363   -2.090693  ]\n",
            " [ -8.452332   -14.400635  ]\n",
            " [-11.306772   -13.559565  ]\n",
            " [-15.029136   -13.156104  ]\n",
            " [  2.899493     2.6904724 ]\n",
            " [  9.957072    -0.92342263]\n",
            " [-17.302313   -24.693302  ]\n",
            " [ -1.7587041   -9.065764  ]\n",
            " [-15.524321    -6.3706164 ]\n",
            " [ -6.5394983   -2.4227743 ]\n",
            " [ 36.86986     12.771761  ]\n",
            " [-18.851728   -13.646539  ]\n",
            " [ -5.7893734    0.7386084 ]\n",
            " [-16.433256   -25.035593  ]\n",
            " [-13.807824   -18.643196  ]\n",
            " [ 24.613049     9.975408  ]\n",
            " [ 17.841778     9.1010895 ]\n",
            " [ 29.54985     17.528212  ]\n",
            " [ -3.846073   -12.100049  ]\n",
            " [  2.7909813   -8.257889  ]\n",
            " [ -1.8678414   -9.09616   ]\n",
            " [ 29.77365     18.961407  ]\n",
            " [ 25.423193    13.732558  ]\n",
            " [ -7.8836374   -3.5921679 ]\n",
            " [-15.924683   -26.287376  ]\n",
            " [  0.828103    12.578895  ]\n",
            " [ 22.93251     18.89427   ]\n",
            " [-13.440203   -12.77995   ]\n",
            " [-16.127445   -20.58344   ]\n",
            " [ 28.757202    16.142431  ]\n",
            " [-14.642093   -12.577881  ]\n",
            " [ -3.4913366   -0.6340091 ]\n",
            " [ -3.838754    -9.338226  ]\n",
            " [  3.1626117   -7.068692  ]\n",
            " [-16.070278    -1.5124115 ]\n",
            " [ 17.245773     7.480855  ]\n",
            " [ -4.4424834    7.0905943 ]\n",
            " [-12.030938   -21.472828  ]\n",
            " [  1.7066959    2.2588124 ]\n",
            " [  3.9987981    5.265307  ]\n",
            " [ -4.189041    -5.9392776 ]\n",
            " [ 26.139463    17.141914  ]\n",
            " [ -6.615224    -4.882945  ]\n",
            " [ -5.5998697   -2.054073  ]\n",
            " [-14.9959955    0.40503404]\n",
            " [ 29.986174    19.74332   ]\n",
            " [ -6.9751625    5.66209   ]\n",
            " [-10.4484215  -13.048319  ]\n",
            " [-12.287484    -5.2414455 ]\n",
            " [ -7.823965    -0.90081567]\n",
            " [  3.0520692    3.0169935 ]\n",
            " [ 25.11696     17.294943  ]\n",
            " [-15.659013   -24.038593  ]\n",
            " [-17.366049    -4.087644  ]\n",
            " [-16.18186    -26.347683  ]\n",
            " [ 26.636082    14.901729  ]\n",
            " [  5.5281262    4.828139  ]\n",
            " [ 25.415289    14.878469  ]\n",
            " [  5.235278     6.9882293 ]\n",
            " [ 36.829716    12.264388  ]\n",
            " [-15.767956   -20.8514    ]\n",
            " [ -1.8321862   13.562256  ]\n",
            " [  1.3897122   14.746113  ]\n",
            " [ -6.3575616   -5.9856095 ]\n",
            " [  4.9128976    6.61704   ]\n",
            " [-13.259506   -17.60483   ]\n",
            " [ -9.818641   -15.477854  ]\n",
            " [ -1.9475685  -10.904418  ]\n",
            " [-19.385145   -24.679693  ]\n",
            " [ -2.0644732   12.801992  ]\n",
            " [ -3.8329043   -7.413153  ]\n",
            " [-15.547487   -25.463202  ]\n",
            " [-15.642579   -12.686101  ]\n",
            " [ 24.980057    10.1878605 ]\n",
            " [-13.00983    -18.062769  ]\n",
            " [-20.319546   -22.09043   ]\n",
            " [ 34.641487    16.47111   ]\n",
            " [ 27.201159    19.226648  ]\n",
            " [-19.196426   -22.955288  ]\n",
            " [ -2.215623    12.448603  ]\n",
            " [ -8.550802   -13.666839  ]\n",
            " [ -3.2651532   -5.9946775 ]\n",
            " [ 23.788357    17.766119  ]\n",
            " [  8.167025    -1.147951  ]\n",
            " [  0.17315467  12.99144   ]\n",
            " [ 37.04525     14.41449   ]\n",
            " [-13.55934    -24.682632  ]\n",
            " [-15.9365     -16.87104   ]\n",
            " [ 33.162815    17.745155  ]\n",
            " [ 24.122591    10.927587  ]\n",
            " [ 17.956516     9.111319  ]\n",
            " [-16.35387     -2.8021321 ]\n",
            " [-16.801659    -3.74321   ]\n",
            " [ 17.696272     8.06352   ]\n",
            " [ 39.31819     12.173501  ]\n",
            " [ -4.157178     1.6790079 ]\n",
            " [ -4.2588377   -9.364104  ]\n",
            " [ -8.999437     0.41022262]\n",
            " [-19.10044     -7.604186  ]\n",
            " [-12.137617    -8.192925  ]\n",
            " [ 24.82778     10.764384  ]\n",
            " [ 37.346478    13.718558  ]\n",
            " [ -1.0925041  -10.970733  ]\n",
            " [ -3.939626    -2.1098409 ]\n",
            " [  1.5488352    2.9986935 ]\n",
            " [  0.25649604  12.325608  ]\n",
            " [-16.484367   -26.398926  ]\n",
            " [  3.1955059   -8.019169  ]\n",
            " [ -0.8474371  -11.139128  ]\n",
            " [ -4.5582323    1.6130913 ]\n",
            " [ -2.515754    12.342393  ]\n",
            " [-19.989328   -22.772621  ]\n",
            " [ -0.7226131  -10.556596  ]\n",
            " [ 30.259972    19.219164  ]\n",
            " [-10.158079    -6.271653  ]\n",
            " [  0.08230316  12.737292  ]\n",
            " [-15.869553   -21.868652  ]\n",
            " [ 38.73604     11.800874  ]\n",
            " [ -6.79148      5.1751385 ]\n",
            " [ 29.376215    20.233856  ]\n",
            " [ 24.123976    16.217442  ]\n",
            " [  0.13618094  12.168943  ]\n",
            " [ 32.024315    15.315182  ]\n",
            " [-14.086       -5.3634663 ]\n",
            " [ -8.7244215    0.98075956]\n",
            " [-16.908262   -23.184362  ]\n",
            " [-21.908543   -17.544563  ]\n",
            " [ -6.805926    -8.652677  ]\n",
            " [-13.415857   -16.153622  ]\n",
            " [ -2.8626866  -11.136653  ]\n",
            " [ 38.53171     13.148892  ]\n",
            " [  3.605246     4.844867  ]\n",
            " [-16.229742    -1.7723833 ]\n",
            " [ -7.6717772   -3.6894448 ]\n",
            " [ -7.5455356    7.4265714 ]\n",
            " [  2.4615848    3.2257264 ]\n",
            " [  9.198016     2.459146  ]\n",
            " [ 25.932146    15.399397  ]\n",
            " [-17.376608   -14.939689  ]\n",
            " [  6.972788    -1.4668118 ]\n",
            " [ -5.684963    -8.454684  ]\n",
            " [-13.442736   -15.200071  ]\n",
            " [-12.794306   -16.975967  ]\n",
            " [ 27.561575    15.294234  ]\n",
            " [ 26.984896    18.008844  ]\n",
            " [ -2.946228    -7.23817   ]\n",
            " [-15.503092    -8.421703  ]\n",
            " [ 28.817474    17.062601  ]\n",
            " [ 24.508347    14.443546  ]\n",
            " [-11.032842    -3.7398067 ]\n",
            " [-22.253004   -16.357256  ]\n",
            " [-18.475943   -23.196714  ]\n",
            " [ 38.039906    11.598591  ]\n",
            " [ -7.4279795  -10.235607  ]\n",
            " [-15.430385   -25.193943  ]\n",
            " [ 21.784283    15.322279  ]\n",
            " [ -5.957313     6.7635446 ]\n",
            " [ -0.935556   -10.190533  ]\n",
            " [ 36.18916     11.663576  ]\n",
            " [-12.2303095   -4.2211413 ]\n",
            " [ 36.391273    14.305792  ]\n",
            " [  1.9291161    3.0408738 ]\n",
            " [ -3.425438   -11.627707  ]\n",
            " [-13.52552    -24.600927  ]\n",
            " [-11.699258    -4.09099   ]\n",
            " [-12.930645   -11.934931  ]\n",
            " [-12.940568    -0.47659162]\n",
            " [-11.337044     7.6079187 ]\n",
            " [  2.2844899   -9.299533  ]\n",
            " [-11.633375    -5.8874354 ]\n",
            " [-17.142038   -24.856083  ]\n",
            " [ 23.838594    15.146822  ]\n",
            " [-10.0214815    7.4746623 ]\n",
            " [ 24.860498    14.40901   ]\n",
            " [ -5.9925737   -3.7311494 ]\n",
            " [  2.8543704   -7.58007   ]\n",
            " [-16.063274   -20.360397  ]\n",
            " [  9.832547    -0.8666144 ]\n",
            " [ 37.56719     12.216381  ]\n",
            " [  0.41758254  13.216445  ]\n",
            " [-13.812567   -13.253205  ]\n",
            " [  0.93155676  12.144789  ]\n",
            " [  0.96761876  11.847688  ]\n",
            " [ 23.096252    11.110596  ]\n",
            " [-14.317502     1.198845  ]\n",
            " [-13.20044     -7.426305  ]\n",
            " [ 25.894344    11.432907  ]\n",
            " [-16.050854   -14.609416  ]\n",
            " [-16.235119   -23.982334  ]\n",
            " [ -7.9537854    6.9308324 ]\n",
            " [  5.768366     4.62564   ]\n",
            " [-13.822851   -24.475908  ]\n",
            " [ 27.854666    16.113405  ]\n",
            " [ 25.477354    10.398875  ]\n",
            " [ 23.769041    17.948372  ]\n",
            " [  7.561447    -0.9602052 ]\n",
            " [-11.31922    -18.573128  ]\n",
            " [ 26.792475    17.638954  ]\n",
            " [ -4.5259323    6.974072  ]\n",
            " [-10.308159    -6.7186937 ]\n",
            " [  7.791233    -2.0767229 ]\n",
            " [ -8.620615    -0.97247744]\n",
            " [-10.567705     2.3712094 ]\n",
            " [-17.374205    -4.4171114 ]\n",
            " [ 23.803837    13.487242  ]\n",
            " [-17.44332    -12.709619  ]\n",
            " [ -7.8073874    1.1758325 ]\n",
            " [ 24.428923    12.269544  ]\n",
            " [-13.235815   -19.297832  ]\n",
            " [-17.268026   -15.001719  ]\n",
            " [  6.8523135   -2.2026384 ]\n",
            " [-17.058027   -22.67811   ]\n",
            " [  1.737791     0.15608232]\n",
            " [-15.496489    -7.8544827 ]\n",
            " [ -2.7052155   -1.9023329 ]\n",
            " [ 26.844002    15.729171  ]\n",
            " [-13.481954   -21.224522  ]\n",
            " [ -5.81256     -1.32231   ]\n",
            " [  2.580956    -7.1894913 ]\n",
            " [ -7.5456753    5.010788  ]\n",
            " [-15.222615   -16.82372   ]\n",
            " [ 26.26855     18.08186   ]\n",
            " [ -6.3461957   -7.1204653 ]\n",
            " [ 23.597431    15.702854  ]\n",
            " [  1.9722594   13.894579  ]\n",
            " [-12.995845    -1.1117194 ]\n",
            " [ 37.45244     11.563729  ]\n",
            " [-10.959867   -14.229651  ]\n",
            " [-12.993107    -4.7997828 ]\n",
            " [-10.841468     7.952926  ]\n",
            " [ 36.121357    13.094281  ]\n",
            " [  3.3146505   -7.731341  ]\n",
            " [ 35.02959     16.060337  ]\n",
            " [ 23.967611    18.916977  ]\n",
            " [ -5.0740724   -6.5148363 ]\n",
            " [-11.020782    -6.435239  ]\n",
            " [ 26.174818    13.198644  ]\n",
            " [-14.710018   -17.447678  ]\n",
            " [-15.141213   -11.433767  ]\n",
            " [  2.6550403   -7.7361555 ]\n",
            " [-13.272613   -15.500978  ]\n",
            " [ -9.680867    -4.5061235 ]\n",
            " [ -6.794485    -1.0093819 ]\n",
            " [ -3.2586386   -8.201491  ]\n",
            " [ 29.287258    19.184464  ]\n",
            " [-22.125443   -15.699588  ]\n",
            " [  1.7329541   -0.04814306]\n",
            " [-17.960464    -7.9139967 ]\n",
            " [ -6.618411     1.2296236 ]\n",
            " [ -0.35213012  11.634971  ]\n",
            " [ -7.4521585  -13.865847  ]\n",
            " [ 24.731823    11.891587  ]\n",
            " [ -7.48476     -1.875106  ]\n",
            " [-15.040484   -18.200785  ]\n",
            " [-20.080399   -21.374586  ]\n",
            " [ 18.261272     9.287549  ]\n",
            " [-14.090937   -15.437443  ]\n",
            " [ 23.58898     14.028761  ]\n",
            " [ -5.1633897   -4.6558366 ]\n",
            " [ 37.952713    12.312581  ]\n",
            " [-12.184301   -20.395617  ]\n",
            " [ -4.7438526    5.7826343 ]\n",
            " [ 22.915224    13.191609  ]\n",
            " [-12.021966   -19.909853  ]\n",
            " [  2.1497056    2.303139  ]\n",
            " [-16.094847   -12.791018  ]\n",
            " [-13.842692     1.4775033 ]\n",
            " [-14.436538   -20.826988  ]\n",
            " [ -6.008074    -3.7850692 ]\n",
            " [-18.09813    -13.36187   ]\n",
            " [ -8.406996     6.3644214 ]\n",
            " [ -4.5291414   -1.9444126 ]\n",
            " [ 24.13882     13.713237  ]\n",
            " [  8.845356    -0.23877572]\n",
            " [  7.133569    -3.7396977 ]\n",
            " [ 25.172817    15.642476  ]\n",
            " [-13.478058   -20.883232  ]\n",
            " [ 28.600035    19.094973  ]\n",
            " [-16.84911     -4.6213574 ]\n",
            " [ 31.180588    16.893665  ]\n",
            " [-14.503551   -20.113552  ]\n",
            " [  2.707461    -9.536966  ]\n",
            " [ -3.6409092   -2.712767  ]\n",
            " [  4.791022     6.0223083 ]\n",
            " [  0.8530292   11.511641  ]\n",
            " [  4.3641996    5.422806  ]\n",
            " [ 22.859009    13.928215  ]\n",
            " [ -3.355734   -10.157821  ]\n",
            " [ 18.297565     8.68866   ]\n",
            " [ -7.4130707   -6.3010435 ]\n",
            " [ 22.988802    16.171263  ]\n",
            " [-18.159111    -7.916885  ]\n",
            " [-10.182292     0.330732  ]\n",
            " [ 36.829338    13.601653  ]\n",
            " [ -2.3082623   12.381548  ]\n",
            " [ -4.7209487    5.780968  ]\n",
            " [-10.182529     5.9502063 ]\n",
            " [-12.676906   -20.081707  ]\n",
            " [-14.79476     -6.4440284 ]\n",
            " [ -7.8714423    4.985711  ]\n",
            " [-13.531818    -4.0340567 ]\n",
            " [-17.87171    -23.890985  ]\n",
            " [ 37.071964    11.377393  ]\n",
            " [-10.998275     8.843811  ]]\n"
          ]
        }
      ]
    },
    {
      "cell_type": "code",
      "metadata": {
        "colab": {
          "base_uri": "https://localhost:8080/",
          "height": 265
        },
        "id": "3v-20_f39DKH",
        "outputId": "f528334c-5c71-44e9-8740-3fc8fe2bacd2"
      },
      "source": [
        "plt.scatter (X_train_tsne[:, 0], X_train_tsne[:, 1], c='red', s=1)\n",
        "plt.show()"
      ],
      "execution_count": null,
      "outputs": [
        {
          "output_type": "display_data",
          "data": {
            "image/png": "[encoded data removed]",
            "text/plain": [
              "<Figure size 432x288 with 1 Axes>"
            ]
          },
          "metadata": {
            "needs_background": "light"
          }
        }
      ]
    },
    {
      "cell_type": "markdown",
      "metadata": {
        "id": "EqEPdjIA-vfD"
      },
      "source": [
        "Задание 2"
      ]
    },
    {
      "cell_type": "code",
      "metadata": {
        "colab": {
          "base_uri": "https://localhost:8080/",
          "height": 283
        },
        "id": "0vh8azW1APrI",
        "outputId": "be1f86e8-12ef-431f-d315-841dbab1b115"
      },
      "source": [
        "from sklearn.cluster import KMeans\n",
        "\n",
        "model = KMeans(n_clusters=3, max_iter = 100, random_state=42)\n",
        "train_labels = model.fit_predict(X_train_scaled)\n",
        "centers = scaler.inverse_transform(model.cluster_centers_)\n",
        "plt.scatter(X_train_scaled['AGE'], y_train, c=train_labels, s=1)\n",
        "plt.scatter(X_train_scaled['B'], y_train, c=train_labels, s=1)\n",
        "plt.scatter(X_train_scaled['CHAS'], y_train, c=train_labels, s=1)\n",
        "plt.scatter(X_train_scaled['CRIM'], y_train, c=train_labels, s=1)\n",
        "plt.scatter(X_train_scaled['DIS'], y_train, c=train_labels, s=1)\n",
        "plt.scatter(X_train_scaled['INDUS'], y_train, c=train_labels, s=1)\n",
        "plt.scatter(X_train_scaled['LSTAT'], y_train, c=train_labels, s=1)\n",
        "plt.scatter(X_train_scaled['NOX'], y_train, c=train_labels, s=1)\n",
        "plt.scatter(X_train_scaled['PTRATIO'], y_train, c=train_labels, s=1)\n",
        "plt.scatter(X_train_scaled['RAD'], y_train, c=train_labels, s=1)\n",
        "plt.scatter(X_train_scaled['RM'], y_train, c=train_labels, s=1)\n",
        "plt.scatter(X_train_scaled['TAX'], y_train, c=train_labels, s=1)\n",
        "plt.scatter(X_train_scaled['ZN'], y_train, c=train_labels, s=1)\n",
        "plt.scatter(centers[:, 0], centers[:, 1], marker='D', color='red')\n",
        "plt.show()\n",
        "print(X_train['CRIM'].mean(), y_train.mean())"
      ],
      "execution_count": 71,
      "outputs": [
        {
          "output_type": "display_data",
          "data": {
            "image/png": "[encoded data removed]",
            "text/plain": [
              "<Figure size 432x288 with 1 Axes>"
            ]
          },
          "metadata": {
            "needs_background": "light"
          }
        },
        {
          "output_type": "stream",
          "name": "stdout",
          "text": [
            "3.609124628712873 22.796534653465343\n"
          ]
        }
      ]
    },
    {
      "cell_type": "code",
      "metadata": {
        "colab": {
          "base_uri": "https://localhost:8080/",
          "height": 266
        },
        "id": "zN1ExyCEXru8",
        "outputId": "7002219d-d0a9-4839-a370-d109c10e4094"
      },
      "source": [
        "model = KMeans(n_clusters=3, max_iter = 100, random_state=42)\n",
        "train_labels = model.fit_predict(X_train_scaled)\n",
        "centers = scaler.inverse_transform(model.cluster_centers_)\n",
        "plt.scatter(X_train_tsne[:, 0], X_train_tsne[:, 1], c=train_labels, s=1)\n",
        "plt.scatter(centers[:, 0], centers[:, 1], marker='D', color='red')\n",
        "plt.show()\n"
      ],
      "execution_count": 87,
      "outputs": [
        {
          "output_type": "display_data",
          "data": {
            "image/png": "[encoded data removed]",
            "text/plain": [
              "<Figure size 432x288 with 1 Axes>"
            ]
          },
          "metadata": {
            "needs_background": "light"
          }
        }
      ]
    },
    {
      "cell_type": "code",
      "metadata": {
        "colab": {
          "base_uri": "https://localhost:8080/",
          "height": 265
        },
        "id": "zM_3fGxKciSD",
        "outputId": "8a9ad158-7edf-4754-c585-c936868d150a"
      },
      "source": [
        "model = KMeans(n_clusters=3, max_iter = 100, random_state=42)\n",
        "train_labels = model.fit_predict(X_train_tsne)\n",
        "centers_tsne = model.cluster_centers_\n",
        "plt.scatter(X_train_tsne[:, 0], X_train_tsne[:, 1], c=train_labels, s=1)\n",
        "plt.scatter(centers_tsne[:, 0], centers_tsne[:, 1], marker='D', color='red')\n",
        "plt.show()"
      ],
      "execution_count": 100,
      "outputs": [
        {
          "output_type": "display_data",
          "data": {
            "image/png": "[encoded data removed]",
            "text/plain": [
              "<Figure size 432x288 with 1 Axes>"
            ]
          },
          "metadata": {
            "needs_background": "light"
          }
        }
      ]
    },
    {
      "cell_type": "code",
      "metadata": {
        "colab": {
          "base_uri": "https://localhost:8080/"
        },
        "id": "NeAAyaL1bI16",
        "outputId": "a36cc00c-5d9f-4ac1-c946-348ef9b22e66"
      },
      "source": [
        "print (y_train[train_labels == 0].mean())\n",
        "print (y_train[train_labels == 1].mean())\n",
        "print (y_train[train_labels == 2].mean())"
      ],
      "execution_count": 82,
      "outputs": [
        {
          "output_type": "stream",
          "name": "stdout",
          "text": [
            "23.67065868263473\n",
            "26.564705882352943\n",
            "16.277227722772277\n"
          ]
        }
      ]
    },
    {
      "cell_type": "code",
      "metadata": {
        "colab": {
          "base_uri": "https://localhost:8080/"
        },
        "id": "ClQfl7umbkEA",
        "outputId": "6398706b-3121-4f60-c0b1-cc40e9959681"
      },
      "source": [
        "print (X_train_scaled['CRIM'][train_labels == 0].mean())\n",
        "print (X_train_scaled['CRIM'][train_labels == 1].mean())\n",
        "print (X_train_scaled['CRIM'][train_labels == 2].mean())"
      ],
      "execution_count": 83,
      "outputs": [
        {
          "output_type": "stream",
          "name": "stdout",
          "text": [
            "-0.33011444075731805\n",
            "-0.39648861651442174\n",
            "1.0797184500240933\n"
          ]
        }
      ]
    },
    {
      "cell_type": "code",
      "metadata": {
        "colab": {
          "base_uri": "https://localhost:8080/"
        },
        "id": "mIBrzNnxb9Ao",
        "outputId": "bc0f6a6f-4e61-471b-a82f-90de08b75c01"
      },
      "source": [
        "print (X_train['CRIM'][train_labels == 0].mean())\n",
        "print (X_train['CRIM'][train_labels == 1].mean())\n",
        "print (X_train['CRIM'][train_labels == 2].mean())"
      ],
      "execution_count": 84,
      "outputs": [
        {
          "output_type": "stream",
          "name": "stdout",
          "text": [
            "0.6829679640718564\n",
            "0.09462279411764711\n",
            "13.17982178217822\n"
          ]
        }
      ]
    },
    {
      "cell_type": "markdown",
      "metadata": {
        "id": "PzHHQmFNcquO"
      },
      "source": [
        "Задание 3"
      ]
    },
    {
      "cell_type": "code",
      "metadata": {
        "colab": {
          "base_uri": "https://localhost:8080/",
          "height": 265
        },
        "id": "o43r_M0Hcsxb",
        "outputId": "96b8f017-d783-460e-a552-b47bfa7c6951"
      },
      "source": [
        "model = KMeans(n_clusters=3, max_iter = 100, random_state=42)\n",
        "test_labels = model.fit_predict(X_test_scaled)\n",
        "centers = scaler.inverse_transform(model.cluster_centers_)\n",
        "plt.scatter(X_test_scaled['AGE'], y_test, c=test_labels, s=1)\n",
        "plt.scatter(X_test_scaled['B'], y_test, c=test_labels, s=1)\n",
        "plt.scatter(X_test_scaled['CHAS'], y_test, c=test_labels, s=1)\n",
        "plt.scatter(X_test_scaled['CRIM'], y_test, c=test_labels, s=1)\n",
        "plt.scatter(X_test_scaled['DIS'], y_test, c=test_labels, s=1)\n",
        "plt.scatter(X_test_scaled['INDUS'], y_test, c=test_labels, s=1)\n",
        "plt.scatter(X_test_scaled['LSTAT'], y_test, c=test_labels, s=1)\n",
        "plt.scatter(X_test_scaled['NOX'], y_test, c=test_labels, s=1)\n",
        "plt.scatter(X_test_scaled['PTRATIO'], y_test, c=test_labels, s=1)\n",
        "plt.scatter(X_test_scaled['RAD'], y_test, c=test_labels, s=1)\n",
        "plt.scatter(X_test_scaled['RM'], y_test, c=test_labels, s=1)\n",
        "plt.scatter(X_test_scaled['TAX'], y_test, c=test_labels, s=1)\n",
        "plt.scatter(X_test_scaled['ZN'], y_test, c=test_labels, s=1)\n",
        "plt.scatter(centers[:, 0], centers[:, 1], marker='D', color='red')\n",
        "plt.show()"
      ],
      "execution_count": 90,
      "outputs": [
        {
          "output_type": "display_data",
          "data": {
            "image/png": "[encoded data removed]",
            "text/plain": [
              "<Figure size 432x288 with 1 Axes>"
            ]
          },
          "metadata": {
            "needs_background": "light"
          }
        }
      ]
    },
    {
      "cell_type": "code",
      "metadata": {
        "colab": {
          "base_uri": "https://localhost:8080/",
          "height": 265
        },
        "id": "ttP7DkvkfbER",
        "outputId": "cdc489ea-1a08-48ff-b198-1fc50bf05ba9"
      },
      "source": [
        "X_test_tsne = tsne.fit_transform(X_test_scaled)\n",
        "model = KMeans(n_clusters=3, max_iter = 100, random_state=42)\n",
        "train_labels = model.fit_predict(X_test_tsne)\n",
        "plt.scatter(X_test_tsne[:, 0], X_test_tsne[:, 1], c=test_labels, s=1)\n",
        "plt.scatter(centers[:, 0], centers[:, 1], marker='D', color='red')\n",
        "plt.show()"
      ],
      "execution_count": 95,
      "outputs": [
        {
          "output_type": "display_data",
          "data": {
            "image/png": "[encoded data removed]",
            "text/plain": [
              "<Figure size 432x288 with 1 Axes>"
            ]
          },
          "metadata": {
            "needs_background": "light"
          }
        }
      ]
    },
    {
      "cell_type": "code",
      "metadata": {
        "colab": {
          "base_uri": "https://localhost:8080/",
          "height": 265
        },
        "id": "Nx-kCcLded_Q",
        "outputId": "85c42090-57f1-4d53-e776-c52bc2e5f033"
      },
      "source": [
        "X_test_tsne = tsne.fit_transform(X_test_scaled)\n",
        "model = KMeans(n_clusters=3, max_iter = 100, random_state=42)\n",
        "train_labels = model.fit_predict(X_test_tsne)\n",
        "plt.scatter(X_test_tsne[:, 0], X_test_tsne[:, 1], c=test_labels, s=1)\n",
        "plt.scatter(centers_tsne[:, 0], centers_tsne[:, 1], marker='D', color='red')\n",
        "plt.show()"
      ],
      "execution_count": 94,
      "outputs": [
        {
          "output_type": "display_data",
          "data": {
            "image/png": "[encoded data removed]",
            "text/plain": [
              "<Figure size 432x288 with 1 Axes>"
            ]
          },
          "metadata": {
            "needs_background": "light"
          }
        }
      ]
    },
    {
      "cell_type": "code",
      "metadata": {
        "colab": {
          "base_uri": "https://localhost:8080/"
        },
        "id": "3p07uhZEgBiC",
        "outputId": "ca2af710-c055-4b0c-dbbf-cb2a8326a68e"
      },
      "source": [
        "print (y_test[test_labels == 0].mean())\n",
        "print (y_test[test_labels == 1].mean())\n",
        "print (y_test[test_labels == 2].mean())"
      ],
      "execution_count": 101,
      "outputs": [
        {
          "output_type": "stream",
          "name": "stdout",
          "text": [
            "16.710526315789473\n",
            "22.690909090909095\n",
            "34.3111111111111\n"
          ]
        }
      ]
    },
    {
      "cell_type": "code",
      "metadata": {
        "colab": {
          "base_uri": "https://localhost:8080/"
        },
        "id": "oaSciV8PgUz7",
        "outputId": "88bd2b24-1fe0-453b-a300-f88c1450844f"
      },
      "source": [
        "print (X_test_scaled['CRIM'][test_labels == 0].mean())\n",
        "print (X_test_scaled['CRIM'][test_labels == 1].mean())\n",
        "print (X_test_scaled['CRIM'][test_labels == 2].mean())"
      ],
      "execution_count": 103,
      "outputs": [
        {
          "output_type": "stream",
          "name": "stdout",
          "text": [
            "0.6554617566938616\n",
            "-0.38242350296850663\n",
            "-0.40257154189495115\n"
          ]
        }
      ]
    },
    {
      "cell_type": "code",
      "metadata": {
        "colab": {
          "base_uri": "https://localhost:8080/"
        },
        "id": "gXFC5VLYgVUj",
        "outputId": "bcdeeb16-74aa-481b-96cd-59203d48538b"
      },
      "source": [
        "print (X_test['CRIM'][test_labels == 0].mean())\n",
        "print (X_test['CRIM'][test_labels == 1].mean())\n",
        "print (X_test['CRIM'][test_labels == 2].mean())"
      ],
      "execution_count": 102,
      "outputs": [
        {
          "output_type": "stream",
          "name": "stdout",
          "text": [
            "9.419181842105264\n",
            "0.21929690909090907\n",
            "0.04070333333333334\n"
          ]
        }
      ]
    }
  ]
}